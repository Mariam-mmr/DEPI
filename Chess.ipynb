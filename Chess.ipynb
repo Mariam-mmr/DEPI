{
 "cells": [
  {
   "cell_type": "markdown",
   "metadata": {},
   "source": [
    "***Assignment (5): Python Simple Chess Game***"
   ]
  },
  {
   "cell_type": "markdown",
   "metadata": {},
   "source": [
    "~ Define a simple function that takes the \"piece\" from its current location to the new location (the basic function should take the current location then new location)"
   ]
  },
  {
   "cell_type": "markdown",
   "metadata": {},
   "source": [
    "~ Add a loop that keeps running the function for both players\n",
    "\n",
    "\n",
    "\n"
   ]
  },
  {
   "cell_type": "markdown",
   "metadata": {},
   "source": [
    "**Defining a function to set the pieces in their proper places at the beginning of a new game**"
   ]
  },
  {
   "cell_type": "code",
   "execution_count": 185,
   "metadata": {},
   "outputs": [],
   "source": [
    "def set_board():\n",
    "    #creating a simple 9 by 8 dataframe as chess board using lists in python\n",
    "    global board\n",
    "    board = []\n",
    "    #we need to create 9 rows, as the first row is for the column's number\n",
    "    for i in range(9):\n",
    "        row = []\n",
    "        #for each row, we need to create 8 columns\n",
    "        for j in range(8):\n",
    "            #we need to display a well built board\n",
    "            #adding the indices numbers of columns in the index row (when i=0)\n",
    "            #adding spaces also to set the board format correctly\n",
    "            if i == 0:\n",
    "                #setting (j+1) to string to be able to concatenate with ' '\n",
    "                #using (,) instead of (+) to print different data types will cause error\n",
    "                #using (,) will be traeted as a new argument, so must use(+)\n",
    "                row.append(str(j+1)+' ')\n",
    "            #if the row and column number are both even or both odd (i+j = even number), add a white space\n",
    "            elif ((i+j) % 2 == 0 ):\n",
    "                row.append('\\u25a1'+' ')\n",
    "            else: #adding a black space\n",
    "                row.append('\\u25a0'+' ')\n",
    "        #add the row to the board\n",
    "        board.append(row)\n",
    "\n",
    "    #Placing ASCII icons of the chess\n",
    "    #In python we can make list of lists, as exactly we did with the chess board\n",
    "    #when slicing the list of lists we use the form list[m][n] as m represents the row's number and n is the column'number\n",
    "    for i in range(1, 9):\n",
    "        #for the second line of each player, on the chess board we have only Pawns\n",
    "        #so the second row is for Black Pawns and the 7th row is for White Pawns\n",
    "        board[2][i-1] = '\\u265F'\n",
    "        board[7][i-1] = '\\u2659'\n",
    "    #set Black Rooks at the upper corners of the board\n",
    "    #set White Rooks at the lower corners of the board\n",
    "    board[1][0] = board[1][7] = '\\u265c'\n",
    "    board[8][0] = board[8][7] = '\\u2656'\n",
    "    # set Black Knights at the board\n",
    "    # set White Knights at the board\n",
    "    board[1][1] = board[1][6] = '\\u265e'\n",
    "    board[8][1] = board[8][6] = '\\u2658'\n",
    "    # set Black Bishops at the diagonals of the board\n",
    "    # set White Bishops at the diagonals of the board\n",
    "    board[1][2] = board[1][5] = '\\u265d'\n",
    "    board[8][2] = board[8][5] = '\\u2657'\n",
    "    # set Black Queens at the center of the board\n",
    "    # set White Queens at the center of the board\n",
    "    board[1][3] = '\\u265b'\n",
    "    board[8][3] = '\\u2655'\n",
    "    # set Black King at the center of the board\n",
    "    # set White King at the center of the board\n",
    "    board[1][4] = '\\u265a'\n",
    "    board[8][4] = '\\u2654'"
   ]
  },
  {
   "cell_type": "markdown",
   "metadata": {},
   "source": [
    "**Defining a function to print the board**"
   ]
  },
  {
   "cell_type": "code",
   "execution_count": 186,
   "metadata": {},
   "outputs": [],
   "source": [
    "def show_board():\n",
    "    #printing the board in a professional view\n",
    "    for row in board:\n",
    "        print(' '.join(str(cell) for cell in row))\n",
    "    print('\\n')"
   ]
  },
  {
   "cell_type": "code",
   "execution_count": 187,
   "metadata": {},
   "outputs": [],
   "source": [
    "set_board()\n"
   ]
  },
  {
   "cell_type": "code",
   "execution_count": 188,
   "metadata": {},
   "outputs": [
    {
     "name": "stdout",
     "output_type": "stream",
     "text": [
      "1  2  3  4  5  6  7  8 \n",
      "♜ ♞ ♝ ♛ ♚ ♝ ♞ ♜\n",
      "♟ ♟ ♟ ♟ ♟ ♟ ♟ ♟\n",
      "■  □  ■  □  ■  □  ■  □ \n",
      "□  ■  □  ■  □  ■  □  ■ \n",
      "■  □  ■  □  ■  □  ■  □ \n",
      "□  ■  □  ■  □  ■  □  ■ \n",
      "♙ ♙ ♙ ♙ ♙ ♙ ♙ ♙\n",
      "♖ ♘ ♗ ♕ ♔ ♗ ♘ ♖\n",
      "\n",
      "\n"
     ]
    }
   ],
   "source": [
    "show_board()"
   ]
  },
  {
   "cell_type": "markdown",
   "metadata": {},
   "source": [
    "**Defining a function to set and return colors**"
   ]
  },
  {
   "cell_type": "code",
   "execution_count": 189,
   "metadata": {},
   "outputs": [],
   "source": [
    "def color(x,y):\n",
    "    #making sets containing pieces colors\n",
    "    Whites = {'\\u2654', '\\u2655', '\\u2656', '\\u2657', '\\u2658', '\\u2659'}\n",
    "    Blacks = {'\\u265a', '\\u265b', '\\u265c', '\\u265d', '\\u265e', '\\u265f'}\n",
    "    #check if the piece is in the sets of colors and return the color\n",
    "    piece = board[x][y]\n",
    "    if piece in Whites:\n",
    "        return 'W'\n",
    "    elif piece in Blacks:\n",
    "        return 'B'\n",
    "    else:\n",
    "        return 'empty'"
   ]
  },
  {
   "cell_type": "markdown",
   "metadata": {},
   "source": [
    "**Defining a function to move a piece**"
   ]
  },
  {
   "cell_type": "code",
   "execution_count": 190,
   "metadata": {},
   "outputs": [],
   "source": [
    "def move_piece(x1, y1, x2, y2):\n",
    "    global player\n",
    "\n",
    "    #keep asking until getting a valaid input\n",
    "    while True:\n",
    "        try:\n",
    "            #getting indices values from the player\n",
    "            x1, y1 = map(int, input('Enter the start position (row, column) seperated with comma: ').split(','))\n",
    "            x2, y2 = map(int, input('Enter the end position (row, column) seperated with comma: ').split(','))\n",
    "\n",
    "            #check if indices are valaid\n",
    "            if not (1 <= x1 <= 8 and 1 <= y1 <= 8 and 1 <= x2 <= 8 and 1 <= y2 <= 8):\n",
    "                print(\"Invalid position.\\nPlease enter positions beteen 1 & 8\")\n",
    "                continue   #asking again\n",
    "\n",
    "            #check if the piece at the starting position belongs to the current player\n",
    "            if (player == 'B' and color(x1, y1) == 'W') or (player == 'W' and color(x1, y1) == 'B'):\n",
    "                print(\"Invalid move.\\nIt's not your piece.\\nEnter a valid move\")\n",
    "                continue   #asking again\n",
    "\n",
    "            # check if the starting position is empty\n",
    "            if board[x1][y1] in {'\\u25a1', '\\u25a0'}:\n",
    "                print(\"No piece at this position.\\nChoose another position\")\n",
    "                continue   #asking again\n",
    "\n",
    "            #check if the ending position is empty or contains a piece of the other player\n",
    "            if board[x2][y2] in {'\\u25a1', '\\u25a0'} or color(x1, y1) != color(x2, y2):\n",
    "                board[x2][y2] = board[x1][y1]\n",
    "                board[x1][y1] = '\\u25a1 ' if (x1 + y1) % 2 == 0 else '\\u25a0 '\n",
    "                return   # Valid move, exit loop\n",
    "            #check if the ending position contains a piece, so apply rules\n",
    "            else:\n",
    "                print('Invalaid move, check game rules')\n",
    "                continue   #asking again\n",
    "\n",
    "        except ValueError:\n",
    "            print(\"Invalid input. Please enter positions in the form of (row, column) separated by comma.\")"
   ]
  },
  {
   "cell_type": "markdown",
   "metadata": {},
   "source": [
    "***Now, Let's play!***"
   ]
  },
  {
   "cell_type": "code",
   "execution_count": 195,
   "metadata": {},
   "outputs": [
    {
     "name": "stdout",
     "output_type": "stream",
     "text": [
      "1  2  3  4  5  6  7  8 \n",
      "♜ ♞ ♝ ♛ ♚ ♝ ♞ ♜\n",
      "♟ ♟ ♟ ♟ ♟ ♟ ♟ ♟\n",
      "■  □  ■  □  ■  □  ■  □ \n",
      "□  ■  □  ■  □  ■  □  ■ \n",
      "■  □  ■  □  ■  □  ■  □ \n",
      "□  ■  □  ■  □  ■  □  ■ \n",
      "♙ ♙ ♙ ♙ ♙ ♙ ♙ ♙\n",
      "♖ ♘ ♗ ♕ ♔ ♗ ♘ ♖\n",
      "\n",
      "\n",
      "Ready to start an amazing game?! \n",
      "Let's play!\n",
      "\n",
      "Player W's turn.\n",
      "this is round 1\n",
      "Invalid move.\n",
      "It's not your piece.\n",
      "Enter a valid move\n",
      "Invalid move.\n",
      "It's not your piece.\n",
      "Enter a valid move\n",
      "1  2  3  4  5  6  7  8 \n",
      "♜ ♞ ♝ ♛ ♚ ♝ ♞ ♜\n",
      "♟ ♟ ♟ ♟ ♟ ♟ ♟ ♟\n",
      "■  □  ■  □  ■  □  ■  □ \n",
      "□  ■  □  ■  □  ■  □  ■ \n",
      "■  □  ■  □  ■  □  ■  □ \n",
      "□  ♘ □  ■  □  ■  □  ■ \n",
      "♙ ♙ ♙ ♙ ♙ ♙ ♙ ♙\n",
      "♖ ■  ♗ ♕ ♔ ♗ ♘ ♖\n",
      "\n",
      "\n",
      "Player B's turn.\n",
      "It was a nice game!\n",
      "\n"
     ]
    }
   ],
   "source": [
    "set_board()\n",
    "show_board()\n",
    "print(\"Ready to start an amazing game?! \\nLet's play!\\n\")\n",
    "\n",
    "#setting main variables to use, and link the player's value with the count's value\n",
    "count = 0     #to count the movesand link with the player value\n",
    "player = 'W'\n",
    "x1 = x2 = y1 =  y2 = 0\n",
    "#setting the round's loop\n",
    "while True:\n",
    "    print(f\"Player {player}'s turn.\")\n",
    "    next = input('Want to continue?\\n {yes, no}').strip().lower()\n",
    "    if next == 'yes':\n",
    "        #set the current round count\n",
    "        print(f'this is round {count + 1}')\n",
    "        #get the user's move input\n",
    "        move_piece(x1, y1, x2, y2)\n",
    "        #increment the counter\n",
    "        count += 1\n",
    "        #switch players\n",
    "        player  = 'B' if (count % 2 != 0) else 'W'\n",
    "        show_board()\n",
    "    else:\n",
    "        print('It was a nice game!\\n')\n",
    "        break\n",
    "#close the round's loop of while\n",
    "\n"
   ]
  }
 ],
 "metadata": {
  "kernelspec": {
   "display_name": "Python 3",
   "language": "python",
   "name": "python3"
  },
  "language_info": {
   "codemirror_mode": {
    "name": "ipython",
    "version": 3
   },
   "file_extension": ".py",
   "mimetype": "text/x-python",
   "name": "python",
   "nbconvert_exporter": "python",
   "pygments_lexer": "ipython3",
   "version": "3.11.9"
  }
 },
 "nbformat": 4,
 "nbformat_minor": 2
}
